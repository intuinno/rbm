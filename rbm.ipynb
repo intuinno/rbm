{
 "cells": [
  {
   "cell_type": "code",
   "execution_count": 1,
   "id": "e046e2da",
   "metadata": {},
   "outputs": [],
   "source": [
    "import matplotlib.pyplot as plt\n",
    "import torch\n",
    "import torch.nn.functional as F\n",
    "from torchvision import datasets, transforms\n",
    "from torchvision.utils import make_grid\n",
    "import torch.nn.functional as F\n",
    "from torch import nn\n",
    "from torch.utils.data import DataLoader\n",
    "import timeit\n",
    "import numpy as np"
   ]
  },
  {
   "cell_type": "code",
   "execution_count": 2,
   "id": "72424c7b",
   "metadata": {},
   "outputs": [
    {
     "name": "stdout",
     "output_type": "stream",
     "text": [
      "Using cpu device\n"
     ]
    }
   ],
   "source": [
    "batch_size = 20\n",
    "n_epochs = 10 \n",
    "lr = 0.1\n",
    "n_hid = 500\n",
    "n_vis = 784\n",
    "k=15\n",
    "num_epoch = 15\n",
    "\n",
    "device = \"cuda\" if torch.cuda.is_available() else \"cpu\"\n",
    "print(f\"Using {device} device\")"
   ]
  },
  {
   "cell_type": "code",
   "execution_count": 3,
   "id": "5a1d78b6",
   "metadata": {},
   "outputs": [],
   "source": [
    "class RBM(nn.Module):\n",
    "    \n",
    "    def __init__(self, n_vis=784, n_hid=500, kCD=1):\n",
    "        super(RBM, self).__init__()\n",
    "        self.vbias = nn.Parameter(torch.randn(n_vis))\n",
    "        self.hbias = nn.Parameter(torch.randn(n_hid))\n",
    "        self.W = nn.Parameter(torch.randn(n_hid, n_vis))\n",
    "        self.kCD = kCD \n",
    "        self.n_vis = n_vis\n",
    "        self.n_hid = n_hid\n",
    "        self.flatten = nn.Flatten()\n",
    "        self.sigmoid = nn.Sigmoid()\n",
    "        self.softplus = nn.Softplus()\n",
    "        \n",
    "    def forward(self, v, persistent=None):\n",
    "        v_flat = self.flatten(v)\n",
    "        v_h = v_flat\n",
    "        \n",
    "        if persistent is None:\n",
    "            h_v, pre_h_v = self.sample_h_given_v(v_h)\n",
    "            chain_start = h_v\n",
    "        else:\n",
    "            chain_start = persistent\n",
    "            \n",
    "        v_h, pre_v_h = self.sample_v_given_h(chain_start)\n",
    "        \n",
    "        for _ in range(self.kCD-1):\n",
    "            h_v, pre_h_v = self.sample_h_given_v(v_h)\n",
    "            v_h, pre_v_h = self.sample_v_given_h(h_v)\n",
    "        return v_flat, v_h, pre_v_h, h_v.detach()\n",
    "    \n",
    "    def sample(self, v, k):\n",
    "        v_flat = self.flatten(v)\n",
    "        v_h = v_flat\n",
    "        for _ in range(k):\n",
    "            h_v, pre_h_v = self.sample_h_given_v(v_h)\n",
    "            v_h, pre_v_h = self.sample_v_given_h(h_v)\n",
    "        return v_flat, v_h, pre_v_h\n",
    "    \n",
    "    def sample_h_given_v(self, v):\n",
    "        p = self.hbias  + torch.matmul(v,self.W.t())\n",
    "        p = self.sigmoid(p)\n",
    "        h = torch.bernoulli(p)\n",
    "        return h, p\n",
    "    \n",
    "    def sample_v_given_h(self, h):\n",
    "        p = self.vbias + h.mm(self.W)\n",
    "        p = self.sigmoid(p)\n",
    "        v = torch.bernoulli(p)\n",
    "        return v, p\n",
    "    \n",
    "    def calc_free_energy(self, v):\n",
    "        a = -torch.matmul(v,self.vbias)\n",
    "        e = self.hbias + v.mm(self.W.t())\n",
    "#         f = torch.log(1+torch.exp(e))\n",
    "        f = self.softplus(e)\n",
    "        g = torch.sum(f, dim=1)\n",
    "        return a - g\n",
    "    \n",
    "\n",
    "def train(dataloader, model, optimizer, persistent):\n",
    "    size = len(dataloader.dataset)\n",
    "    \n",
    "    reconstruction_cost = 0 \n",
    "    for batch, (X, y) in enumerate(dataloader):\n",
    "        X = X.to(device)\n",
    "        v, model_v, pre_v_h, persistent = model(X, persistent)\n",
    "        model.train()\n",
    "        fv = model.calc_free_energy(v)\n",
    "        model_fv = model.calc_free_energy(model_v)\n",
    "        loss = torch.mean(fv - model_fv)\n",
    "        optimizer.zero_grad()\n",
    "        loss.backward()\n",
    "        optimizer.step()\n",
    "        model.eval()\n",
    "        reconstruction_cost += get_reconstruction_cost(v, pre_v_h)\n",
    "       \n",
    "    return reconstruction_cost.mean(), persistent\n",
    "        \n",
    "def get_reconstruction_cost(target, pred):\n",
    "    cross_entropy = F.binary_cross_entropy(pred, target, reduction='sum')\n",
    "    return cross_entropy\n",
    "\n",
    "# def get_pseudo_likelihood_cost(target, )\n",
    "\n",
    "def show_and_save(img, file_name):\n",
    "    r\"\"\"Show and save the image.\n",
    "    Args:\n",
    "        img (Tensor): The image.\n",
    "        file_name (Str): The destination.\n",
    "    \"\"\"\n",
    "    npimg = np.transpose(img.numpy(), (1, 2, 0))\n",
    "    f = \"./%s.png\" % file_name\n",
    "    plt.imshow(npimg, cmap='gray')\n",
    "    plt.imsave(f, npimg)   \n",
    "    plt.show()"
   ]
  },
  {
   "cell_type": "markdown",
   "id": "7cf5ea24",
   "metadata": {},
   "source": [
    "\\begin{align}\n",
    "                F(x) &= -\\log \\sum_h \\exp (-E(x, h)) \\\\\n",
    "                &= -a^\\top x - \\sum_j \\log (1 + \\exp(W^{\\top}_jx + b_j))\\,.\n",
    "            \\end{align}"
   ]
  },
  {
   "cell_type": "code",
   "execution_count": 4,
   "id": "490c1066",
   "metadata": {},
   "outputs": [],
   "source": [
    "training_data = datasets.MNIST(\n",
    "                    root=\"data\",\n",
    "                    train = True,\n",
    "                    download = True, \n",
    "                    transform = transforms.ToTensor()\n",
    "                    )\n",
    "\n",
    "train_dataloader = DataLoader(training_data, batch_size=batch_size, drop_last=True)"
   ]
  },
  {
   "cell_type": "code",
   "execution_count": 5,
   "id": "ee7fc695",
   "metadata": {},
   "outputs": [
    {
     "name": "stdout",
     "output_type": "stream",
     "text": [
      "Starting training\n",
      "Done 0th epoch: Reconstruction Loss: 39045680.0 Time: 166.371392958\n",
      "Done 1th epoch: Reconstruction Loss: 26242422.0 Time: 328.196966833\n",
      "Done 2th epoch: Reconstruction Loss: 26466544.0 Time: 490.038782041\n",
      "Done 3th epoch: Reconstruction Loss: 26701556.0 Time: 651.498541041\n",
      "Done 4th epoch: Reconstruction Loss: 27037438.0 Time: 817.6213957909999\n",
      "Done 5th epoch: Reconstruction Loss: 27401034.0 Time: 987.333285708\n",
      "Done 6th epoch: Reconstruction Loss: 27746918.0 Time: 1150.791624958\n",
      "Done 7th epoch: Reconstruction Loss: 28061096.0 Time: 1312.9091355\n",
      "Done 8th epoch: Reconstruction Loss: 28409934.0 Time: 1479.585603083\n",
      "Done 9th epoch: Reconstruction Loss: 28559460.0 Time: 1642.10705725\n",
      "Done 10th epoch: Reconstruction Loss: 28689844.0 Time: 1805.295182166\n",
      "Done 11th epoch: Reconstruction Loss: 28880214.0 Time: 1971.559932541\n",
      "Done 12th epoch: Reconstruction Loss: 29172078.0 Time: 2135.5516685000002\n",
      "Done 13th epoch: Reconstruction Loss: 29254998.0 Time: 2298.982229791\n",
      "Done 14th epoch: Reconstruction Loss: 29390994.0 Time: 2462.004062458\n"
     ]
    }
   ],
   "source": [
    "start_time = timeit.default_timer()\n",
    "model = RBM(n_vis=n_vis, n_hid=n_hid, kCD=k)\n",
    "optimizer = torch.optim.SGD(model.parameters(), lr=lr)\n",
    "persistent_chain = torch.zeros(batch_size, n_hid)\n",
    "print(\"Starting training\")\n",
    "for i in range(num_epoch):\n",
    "    cost, persistent_chain = train(train_dataloader, model, optimizer, persistent_chain)\n",
    "    \n",
    "    current_time = timeit.default_timer()\n",
    "    print(f\"Done {i}th epoch: Reconstruction Loss: {cost} Time: {current_time - start_time}\")"
   ]
  },
  {
   "cell_type": "code",
   "execution_count": null,
   "id": "278e3315",
   "metadata": {},
   "outputs": [],
   "source": []
  },
  {
   "cell_type": "code",
   "execution_count": 6,
   "id": "b43eab54",
   "metadata": {},
   "outputs": [],
   "source": [
    "test_data = datasets.MNIST(\n",
    "                    root=\"data\",\n",
    "                    train = True,\n",
    "                    download = True, \n",
    "                    transform = transforms.ToTensor()\n",
    "                    )"
   ]
  },
  {
   "cell_type": "code",
   "execution_count": null,
   "id": "629be24d",
   "metadata": {},
   "outputs": [],
   "source": []
  },
  {
   "cell_type": "code",
   "execution_count": 1,
   "id": "cbd4e25d",
   "metadata": {},
   "outputs": [
    {
     "ename": "NameError",
     "evalue": "name 'DataLoader' is not defined",
     "output_type": "error",
     "traceback": [
      "\u001b[0;31m---------------------------------------------------------------------------\u001b[0m",
      "\u001b[0;31mNameError\u001b[0m                                 Traceback (most recent call last)",
      "\u001b[0;32m<ipython-input-1-2f606825dd8b>\u001b[0m in \u001b[0;36m<module>\u001b[0;34m\u001b[0m\n\u001b[1;32m      1\u001b[0m \u001b[0mbatch_size\u001b[0m \u001b[0;34m=\u001b[0m \u001b[0;36m100\u001b[0m\u001b[0;34m\u001b[0m\u001b[0;34m\u001b[0m\u001b[0m\n\u001b[0;32m----> 2\u001b[0;31m \u001b[0mtest_loader\u001b[0m \u001b[0;34m=\u001b[0m \u001b[0mDataLoader\u001b[0m\u001b[0;34m(\u001b[0m\u001b[0mtest_data\u001b[0m\u001b[0;34m,\u001b[0m \u001b[0mbatch_size\u001b[0m\u001b[0;34m=\u001b[0m\u001b[0mbatch_size\u001b[0m\u001b[0;34m)\u001b[0m\u001b[0;34m\u001b[0m\u001b[0;34m\u001b[0m\u001b[0m\n\u001b[0m\u001b[1;32m      3\u001b[0m \u001b[0mimages\u001b[0m \u001b[0;34m=\u001b[0m \u001b[0mnext\u001b[0m\u001b[0;34m(\u001b[0m\u001b[0miter\u001b[0m\u001b[0;34m(\u001b[0m\u001b[0mtest_loader\u001b[0m\u001b[0;34m)\u001b[0m\u001b[0;34m)\u001b[0m\u001b[0;34m[\u001b[0m\u001b[0;36m0\u001b[0m\u001b[0;34m]\u001b[0m\u001b[0;34m\u001b[0m\u001b[0;34m\u001b[0m\u001b[0m\n\u001b[1;32m      4\u001b[0m \u001b[0mv\u001b[0m\u001b[0;34m,\u001b[0m \u001b[0mmodel_v\u001b[0m\u001b[0;34m,\u001b[0m \u001b[0mp_v_h\u001b[0m \u001b[0;34m=\u001b[0m \u001b[0mmodel\u001b[0m\u001b[0;34m.\u001b[0m\u001b[0msample\u001b[0m\u001b[0;34m(\u001b[0m\u001b[0mimages\u001b[0m\u001b[0;34m,\u001b[0m\u001b[0;36m5\u001b[0m\u001b[0;34m)\u001b[0m\u001b[0;34m\u001b[0m\u001b[0;34m\u001b[0m\u001b[0m\n",
      "\u001b[0;31mNameError\u001b[0m: name 'DataLoader' is not defined"
     ]
    }
   ],
   "source": [
    "batch_size = 100\n",
    "test_loader = DataLoader(test_data, batch_size=batch_size)\n",
    "images = next(iter(test_loader))[0]\n",
    "v, model_v, p_v_h = model.sample(images,3000)"
   ]
  },
  {
   "cell_type": "code",
   "execution_count": 2,
   "id": "e1c41285",
   "metadata": {},
   "outputs": [
    {
     "ename": "NameError",
     "evalue": "name 'show_and_save' is not defined",
     "output_type": "error",
     "traceback": [
      "\u001b[0;31m---------------------------------------------------------------------------\u001b[0m",
      "\u001b[0;31mNameError\u001b[0m                                 Traceback (most recent call last)",
      "\u001b[0;32m<ipython-input-2-94fd36100665>\u001b[0m in \u001b[0;36m<module>\u001b[0;34m\u001b[0m\n\u001b[0;32m----> 1\u001b[0;31m \u001b[0mshow_and_save\u001b[0m\u001b[0;34m(\u001b[0m\u001b[0mmake_grid\u001b[0m\u001b[0;34m(\u001b[0m\u001b[0mv\u001b[0m\u001b[0;34m.\u001b[0m\u001b[0mview\u001b[0m\u001b[0;34m(\u001b[0m\u001b[0mbatch_size\u001b[0m\u001b[0;34m,\u001b[0m \u001b[0;36m1\u001b[0m\u001b[0;34m,\u001b[0m \u001b[0;36m28\u001b[0m\u001b[0;34m,\u001b[0m\u001b[0;36m28\u001b[0m\u001b[0;34m)\u001b[0m\u001b[0;34m.\u001b[0m\u001b[0mdata\u001b[0m\u001b[0;34m,\u001b[0m \u001b[0mnrow\u001b[0m\u001b[0;34m=\u001b[0m\u001b[0;36m10\u001b[0m\u001b[0;34m)\u001b[0m\u001b[0;34m,\u001b[0m \u001b[0;34m'output/real'\u001b[0m\u001b[0;34m)\u001b[0m\u001b[0;34m\u001b[0m\u001b[0;34m\u001b[0m\u001b[0m\n\u001b[0m\u001b[1;32m      2\u001b[0m \u001b[0mshow_and_save\u001b[0m\u001b[0;34m(\u001b[0m\u001b[0mmake_grid\u001b[0m\u001b[0;34m(\u001b[0m\u001b[0mmodel_v\u001b[0m\u001b[0;34m.\u001b[0m\u001b[0mview\u001b[0m\u001b[0;34m(\u001b[0m\u001b[0mbatch_size\u001b[0m\u001b[0;34m,\u001b[0m \u001b[0;36m1\u001b[0m\u001b[0;34m,\u001b[0m \u001b[0;36m28\u001b[0m\u001b[0;34m,\u001b[0m\u001b[0;36m28\u001b[0m\u001b[0;34m)\u001b[0m\u001b[0;34m.\u001b[0m\u001b[0mdata\u001b[0m\u001b[0;34m,\u001b[0m \u001b[0mnrow\u001b[0m\u001b[0;34m=\u001b[0m\u001b[0;36m10\u001b[0m\u001b[0;34m)\u001b[0m\u001b[0;34m,\u001b[0m \u001b[0;34m'output/sample'\u001b[0m\u001b[0;34m)\u001b[0m\u001b[0;34m\u001b[0m\u001b[0;34m\u001b[0m\u001b[0m\n",
      "\u001b[0;31mNameError\u001b[0m: name 'show_and_save' is not defined"
     ]
    }
   ],
   "source": [
    "show_and_save(make_grid(v.view(batch_size, 1, 28,28).data, nrow=10), 'output/real')\n",
    "show_and_save(make_grid(model_v.view(batch_size, 1, 28,28).data, nrow=10), 'output/sample')"
   ]
  },
  {
   "cell_type": "code",
   "execution_count": 16,
   "id": "7f97de0e",
   "metadata": {},
   "outputs": [
    {
     "data": {
      "text/plain": [
       "torch.Size([500, 784])"
      ]
     },
     "execution_count": 16,
     "metadata": {},
     "output_type": "execute_result"
    }
   ],
   "source": [
    "model.W.shape\n"
   ]
  },
  {
   "cell_type": "code",
   "execution_count": 9,
   "id": "f07dd21c",
   "metadata": {},
   "outputs": [
    {
     "name": "stdout",
     "output_type": "stream",
     "text": [
      "Starting training\n"
     ]
    },
    {
     "ename": "TypeError",
     "evalue": "train() missing 1 required positional argument: 'persistent'",
     "output_type": "error",
     "traceback": [
      "\u001b[0;31m---------------------------------------------------------------------------\u001b[0m",
      "\u001b[0;31mTypeError\u001b[0m                                 Traceback (most recent call last)",
      "\u001b[0;32m<ipython-input-9-6eadfa0035f9>\u001b[0m in \u001b[0;36m<module>\u001b[0;34m\u001b[0m\n\u001b[1;32m      8\u001b[0m \u001b[0;32mfor\u001b[0m \u001b[0mi\u001b[0m \u001b[0;32min\u001b[0m \u001b[0mrange\u001b[0m\u001b[0;34m(\u001b[0m\u001b[0mnum_epoch\u001b[0m\u001b[0;34m)\u001b[0m\u001b[0;34m:\u001b[0m\u001b[0;34m\u001b[0m\u001b[0;34m\u001b[0m\u001b[0m\n\u001b[1;32m      9\u001b[0m \u001b[0;34m\u001b[0m\u001b[0m\n\u001b[0;32m---> 10\u001b[0;31m     \u001b[0mcost\u001b[0m \u001b[0;34m=\u001b[0m \u001b[0mtrain\u001b[0m\u001b[0;34m(\u001b[0m\u001b[0mtrain_dataloader\u001b[0m\u001b[0;34m,\u001b[0m \u001b[0mcd1\u001b[0m\u001b[0;34m,\u001b[0m \u001b[0moptimizer\u001b[0m\u001b[0;34m)\u001b[0m\u001b[0;34m\u001b[0m\u001b[0;34m\u001b[0m\u001b[0m\n\u001b[0m\u001b[1;32m     11\u001b[0m \u001b[0;34m\u001b[0m\u001b[0m\n\u001b[1;32m     12\u001b[0m     \u001b[0mcurrent_time\u001b[0m \u001b[0;34m=\u001b[0m \u001b[0mtimeit\u001b[0m\u001b[0;34m.\u001b[0m\u001b[0mdefault_timer\u001b[0m\u001b[0;34m(\u001b[0m\u001b[0;34m)\u001b[0m\u001b[0;34m\u001b[0m\u001b[0;34m\u001b[0m\u001b[0m\n",
      "\u001b[0;31mTypeError\u001b[0m: train() missing 1 required positional argument: 'persistent'"
     ]
    }
   ],
   "source": [
    "cd1 = RBM(n_vis=n_vis, n_hid=n_hid, kCD=1)\n",
    "\n",
    "num_epoch = 100\n",
    "plotting_time = 0\n",
    "start_time = timeit.default_timer()\n",
    "\n",
    "print(\"Starting training\")\n",
    "for i in range(num_epoch):\n",
    "    \n",
    "    cost = train(train_dataloader, cd1, optimizer)\n",
    "    \n",
    "    current_time = timeit.default_timer()\n",
    "    print(f\"Done {i}th epoch: Reconstruction Loss: {cost} Time: {current_time - start_time}\")\n",
    "    \n",
    "\n"
   ]
  },
  {
   "cell_type": "code",
   "execution_count": null,
   "id": "dc5814bb",
   "metadata": {},
   "outputs": [],
   "source": [
    "images = next(iter(test_loader))[0]\n",
    "v, model_v, p_v_h = cd1.sample(images,1)\n",
    "show_and_save(make_grid(v.view(batch_size, 1, 28,28).data, nrow=10), 'output/real')"
   ]
  },
  {
   "cell_type": "code",
   "execution_count": null,
   "id": "87596698",
   "metadata": {},
   "outputs": [],
   "source": [
    "show_and_save(make_grid(model_v.view(batch_size, 1, 28,28).data, nrow=10), 'output/sample')"
   ]
  },
  {
   "cell_type": "code",
   "execution_count": null,
   "id": "bbc9aa65",
   "metadata": {},
   "outputs": [],
   "source": []
  }
 ],
 "metadata": {
  "kernelspec": {
   "display_name": "Python 3",
   "language": "python",
   "name": "python3"
  },
  "language_info": {
   "codemirror_mode": {
    "name": "ipython",
    "version": 3
   },
   "file_extension": ".py",
   "mimetype": "text/x-python",
   "name": "python",
   "nbconvert_exporter": "python",
   "pygments_lexer": "ipython3",
   "version": "3.8.8"
  }
 },
 "nbformat": 4,
 "nbformat_minor": 5
}
